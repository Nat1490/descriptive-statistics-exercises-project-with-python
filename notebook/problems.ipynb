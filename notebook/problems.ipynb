{
    "cells": [
        {
            "cell_type": "markdown",
            "id": "ac622319",
            "metadata": {},
            "source": [
                "# Descriptive statistics problems"
            ]
        },
        {
            "cell_type": "markdown",
            "id": "5e0ab0d5",
            "metadata": {},
            "source": [
                "### Exercise 1\n",
                "\n",
                "We will use NumPy to obtain information to describe statistically.\n",
                "\n",
                "- Generate an array of 100 elements following a normal distribution.\n",
                "- Generate an array of 100 elements following a chi-square distribution with 3 degrees of freedom.\n",
                "- Calculate the main metrics and statistical measures that best describe the two vectors."
            ]
        },
        {
            "cell_type": "code",
            "execution_count": 13,
            "id": "34720ab6",
            "metadata": {},
            "outputs": [],
            "source": [
                "# TODO\n",
                "import numpy as np\n",
                "import statistics as stats\n",
                "\n",
                "normal = np.random.normal(size=100)\n",
                "chisquare = np.random.chisquare(3,100)\n"
            ]
        },
        {
            "cell_type": "code",
            "execution_count": 14,
            "id": "6445bcfa",
            "metadata": {},
            "outputs": [
                {
                    "data": {
                        "text/plain": [
                            "3.025651246478626"
                        ]
                    },
                    "execution_count": 14,
                    "metadata": {},
                    "output_type": "execute_result"
                }
            ],
            "source": [
                "normal.mean()\n",
                "chisquare.mean()"
            ]
        },
        {
            "cell_type": "code",
            "execution_count": 15,
            "id": "de78bd4b",
            "metadata": {},
            "outputs": [
                {
                    "data": {
                        "text/plain": [
                            "3.958001311520933"
                        ]
                    },
                    "execution_count": 15,
                    "metadata": {},
                    "output_type": "execute_result"
                }
            ],
            "source": [
                "\n",
                "#median\n",
                "stats.median(normal)\n",
                "stats.median(chisquare)\n",
                "\n",
                "#mode\n",
                "stats.mode(normal)\n",
                "stats.mode(chisquare)"
            ]
        },
        {
            "cell_type": "code",
            "execution_count": 20,
            "id": "fbd900ed",
            "metadata": {},
            "outputs": [
                {
                    "data": {
                        "text/plain": [
                            "2.4554939555936497"
                        ]
                    },
                    "execution_count": 20,
                    "metadata": {},
                    "output_type": "execute_result"
                }
            ],
            "source": [
                "#range\n",
                "#Max(normal) es de la librería Statistics y normal.min() es de Numpy.\n",
                "range_normal = max(normal)-normal.min()\n",
                "range_chisquare = max(chisquare)-chisquare.min()\n",
                "\n",
                "#variance\n",
                "stats.variance(normal)\n",
                "stats.variance(chisquare)\n",
                "\n",
                "#standard deviation (stdev)\n",
                "stats.stdev(normal)\n",
                "stats.stdev(chisquare)"
            ]
        },
        {
            "cell_type": "code",
            "execution_count": 21,
            "id": "8df04735",
            "metadata": {},
            "outputs": [
                {
                    "ename": "ModuleNotFoundError",
                    "evalue": "No module named 'scipy'",
                    "output_type": "error",
                    "traceback": [
                        "\u001b[0;31m---------------------------------------------------------------------------\u001b[0m",
                        "\u001b[0;31mModuleNotFoundError\u001b[0m                       Traceback (most recent call last)",
                        "Cell \u001b[0;32mIn[21], line 1\u001b[0m\n\u001b[0;32m----> 1\u001b[0m \u001b[38;5;28;01mfrom\u001b[39;00m \u001b[38;5;21;01mscipy\u001b[39;00m\u001b[38;5;21;01m.\u001b[39;00m\u001b[38;5;21;01mstats\u001b[39;00m \u001b[38;5;28;01mimport\u001b[39;00m skew, kurtosis\n\u001b[1;32m      3\u001b[0m skew_normal \u001b[38;5;241m=\u001b[39m skew(normal)\n\u001b[1;32m      4\u001b[0m skew_chi \u001b[38;5;241m=\u001b[39m skew(chi)\n",
                        "\u001b[0;31mModuleNotFoundError\u001b[0m: No module named 'scipy'"
                    ]
                }
            ],
            "source": [
                "from scipy.stats import skew, kurtosis\n",
                "\n",
                "skew_normal = skew(normal)\n",
                "skew_chi = skew(chi)\n",
                "kurt_normal = kurtosis(normal)\n",
                "kurt_chi = kurtosis(chi)"
            ]
        },
        {
            "cell_type": "markdown",
            "id": "46c70c3d",
            "metadata": {},
            "source": [
                "### Exercise 2\n",
                "\n",
                "Write a Python program to calculate the standard deviation of the following data:\n",
                "\n",
                "```py\n",
                "data = [4, 2, 5, 8, 6]\n",
                "```"
            ]
        },
        {
            "cell_type": "code",
            "execution_count": 27,
            "id": "d590308e",
            "metadata": {},
            "outputs": [
                {
                    "name": "stdout",
                    "output_type": "stream",
                    "text": [
                        "2.0\n"
                    ]
                },
                {
                    "ename": "AttributeError",
                    "evalue": "'numpy.int64' object has no attribute 'bit_length'",
                    "output_type": "error",
                    "traceback": [
                        "\u001b[0;31m---------------------------------------------------------------------------\u001b[0m",
                        "\u001b[0;31mAttributeError\u001b[0m                            Traceback (most recent call last)",
                        "Cell \u001b[0;32mIn[27], line 29\u001b[0m\n\u001b[1;32m     25\u001b[0m     \u001b[38;5;28;01mreturn\u001b[39;00m std_dev\n\u001b[1;32m     28\u001b[0m \u001b[38;5;28mprint\u001b[39m(get_std_dev(data))\n\u001b[0;32m---> 29\u001b[0m \u001b[43mstats\u001b[49m\u001b[38;5;241;43m.\u001b[39;49m\u001b[43mstdev\u001b[49m\u001b[43m(\u001b[49m\u001b[43mdata\u001b[49m\u001b[43m)\u001b[49m\n",
                        "File \u001b[0;32m/Library/Frameworks/Python.framework/Versions/3.12/lib/python3.12/statistics.py:974\u001b[0m, in \u001b[0;36mstdev\u001b[0;34m(data, xbar)\u001b[0m\n\u001b[1;32m    972\u001b[0m \u001b[38;5;28;01mif\u001b[39;00m \u001b[38;5;28missubclass\u001b[39m(T, Decimal):\n\u001b[1;32m    973\u001b[0m     \u001b[38;5;28;01mreturn\u001b[39;00m _decimal_sqrt_of_frac(mss\u001b[38;5;241m.\u001b[39mnumerator, mss\u001b[38;5;241m.\u001b[39mdenominator)\n\u001b[0;32m--> 974\u001b[0m \u001b[38;5;28;01mreturn\u001b[39;00m \u001b[43m_float_sqrt_of_frac\u001b[49m\u001b[43m(\u001b[49m\u001b[43mmss\u001b[49m\u001b[38;5;241;43m.\u001b[39;49m\u001b[43mnumerator\u001b[49m\u001b[43m,\u001b[49m\u001b[43m \u001b[49m\u001b[43mmss\u001b[49m\u001b[38;5;241;43m.\u001b[39;49m\u001b[43mdenominator\u001b[49m\u001b[43m)\u001b[49m\n",
                        "File \u001b[0;32m/Library/Frameworks/Python.framework/Versions/3.12/lib/python3.12/statistics.py:428\u001b[0m, in \u001b[0;36m_float_sqrt_of_frac\u001b[0;34m(n, m)\u001b[0m\n\u001b[1;32m    426\u001b[0m \u001b[38;5;250m\u001b[39m\u001b[38;5;124;03m\"\"\"Square root of n/m as a float, correctly rounded.\"\"\"\u001b[39;00m\n\u001b[1;32m    427\u001b[0m \u001b[38;5;66;03m# See principle and proof sketch at: https://bugs.python.org/msg407078\u001b[39;00m\n\u001b[0;32m--> 428\u001b[0m q \u001b[38;5;241m=\u001b[39m (\u001b[43mn\u001b[49m\u001b[38;5;241;43m.\u001b[39;49m\u001b[43mbit_length\u001b[49m() \u001b[38;5;241m-\u001b[39m m\u001b[38;5;241m.\u001b[39mbit_length() \u001b[38;5;241m-\u001b[39m _sqrt_bit_width) \u001b[38;5;241m/\u001b[39m\u001b[38;5;241m/\u001b[39m \u001b[38;5;241m2\u001b[39m\n\u001b[1;32m    429\u001b[0m \u001b[38;5;28;01mif\u001b[39;00m q \u001b[38;5;241m>\u001b[39m\u001b[38;5;241m=\u001b[39m \u001b[38;5;241m0\u001b[39m:\n\u001b[1;32m    430\u001b[0m     numerator \u001b[38;5;241m=\u001b[39m _integer_sqrt_of_frac_rto(n, m \u001b[38;5;241m<<\u001b[39m \u001b[38;5;241m2\u001b[39m \u001b[38;5;241m*\u001b[39m q) \u001b[38;5;241m<<\u001b[39m q\n",
                        "\u001b[0;31mAttributeError\u001b[0m: 'numpy.int64' object has no attribute 'bit_length'"
                    ]
                }
            ],
            "source": [
                "# TODO\n",
                "import math\n",
                "\n",
                "data = [4,2,5,8,6]\n",
                "data = np.array(data)\n",
                "\n",
                "def get_mean(ar):\n",
                "    mean = 0\n",
                "    for i in ar:\n",
                "        mean = mean+i\n",
                "\n",
                "    mean = mean /len(ar)\n",
                "    return mean\n",
                "\n",
                "def get_variance(ar):\n",
                "    variance = 0.0\n",
                "    mean = get_mean(ar)\n",
                "    for i in ar:\n",
                "        variance = variance+(i-mean)**2\n",
                "    variance = variance /len(ar)\n",
                "    return variance\n",
                "\n",
                "def get_std_dev(ar):\n",
                "    std_dev = math.sqrt(get_variance(ar))\n",
                "    return std_dev\n",
                "\n",
                "    \n",
                "print(get_std_dev(data))\n",
                "\n"
            ]
        }
    ],
    "metadata": {
        "interpreter": {
            "hash": "9248718ffe6ce6938b217e69dbcc175ea21f4c6b28a317e96c05334edae734bb"
        },
        "kernelspec": {
            "display_name": "Python 3.9.12 ('ML-BOOTCAMP')",
            "language": "python",
            "name": "python3"
        },
        "language_info": {
            "codemirror_mode": {
                "name": "ipython",
                "version": 3
            },
            "file_extension": ".py",
            "mimetype": "text/x-python",
            "name": "python",
            "nbconvert_exporter": "python",
            "pygments_lexer": "ipython3",
            "version": "3.12.3"
        }
    },
    "nbformat": 4,
    "nbformat_minor": 5
}
